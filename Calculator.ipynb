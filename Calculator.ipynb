{
  "nbformat": 4,
  "nbformat_minor": 0,
  "metadata": {
    "colab": {
      "provenance": [],
      "authorship_tag": "ABX9TyPs/hEbXrnLNptHIRDaLWeu"
    },
    "kernelspec": {
      "name": "python3",
      "display_name": "Python 3"
    },
    "language_info": {
      "name": "python"
    }
  },
  "cells": [
    {
      "cell_type": "code",
      "execution_count": 16,
      "metadata": {
        "id": "zOBKtfsKkIuN",
        "colab": {
          "base_uri": "https://localhost:8080/"
        },
        "outputId": "5e9e7e76-c4f3-48f9-98f2-b0bb36e7e538"
      },
      "outputs": [
        {
          "output_type": "stream",
          "name": "stdout",
          "text": [
            "Enter first number\n",
            "6\n",
            "Enter second number\n",
            "5\n",
            "Enter an operator + or - or * or /\n",
            "-\n",
            "1\n",
            "Do you want to continue? If yes press y \n",
            "y\n",
            "Enter a number\n",
            "7654\n",
            "Enter an operator + or - or * or /\n",
            "/\n",
            "0.0001306506401881369\n",
            "Do you want to continue? If yes press y \n",
            "m\n",
            "Thank you\n",
            "\n"
          ]
        }
      ],
      "source": [
        "def add(a,b):\n",
        "  return a+b;\n",
        "def substract(a,b):\n",
        "  return a-b;\n",
        "def multiply(a,b):\n",
        "  return a*b;\n",
        "def divide(a,b):\n",
        "  return a/b;\n",
        "a=int(input(\"Enter first number\\n\"));\n",
        "b=int(input(\"Enter second number\\n\"));\n",
        "o=input(\"Enter an operator + or - or * or /\\n\");\n",
        "main(a,b,o);\n",
        "\n",
        "def main(a,b,o):\n",
        "\n",
        "  if o=='+':\n",
        "    ans=add(a,b);\n",
        "  elif o=='-':\n",
        "    ans=substract(a,b);\n",
        "  elif o=='*':\n",
        "    ans=multiply(a,b);\n",
        "  elif o=='/':\n",
        "    ans=divide(a,b);\n",
        "  else:\n",
        "    print(\"Invalid operator\\n\");\n",
        "    return\n",
        "  print(ans);\n",
        "  repeat=input(\"Do you want to continue? If yes press y \\n\")\n",
        "  if repeat==\"y\":\n",
        "    n=int(input(\"Enter a number\\n\"));\n",
        "    o=input(\"Enter an operator + or - or * or /\\n\");\n",
        "    main(ans,n,o);\n",
        "  else:\n",
        "    print(\"Thank you\\n\");\n",
        "    return;\n",
        "\n",
        "\n",
        "\n",
        "\n"
      ]
    },
    {
      "cell_type": "code",
      "source": [],
      "metadata": {
        "id": "eQcFa-msw-T8"
      },
      "execution_count": null,
      "outputs": []
    }
  ]
}